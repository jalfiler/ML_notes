{
 "cells": [
  {
   "cell_type": "markdown",
   "metadata": {},
   "source": [
    "# Neural Networks - COVID_19 \n",
    "\n",
    "\n",
    "* Use only US, Spain, Italy, and Canada for test.\n",
    "* Use 5-fold cross validation for validation purposes on the training dataset\n",
    "* Using the 5-fold cross validation compare the following problem settings:\n",
    "  * S1: Two hidden layers with 15 neurons in each layer (current setting)\n",
    "  * S2: Two hidden layers with 10 neurons in each layer\n",
    "  * S3: Two hidden layers with 10 neurons in the first layer and 15 neurons in the second layer\n",
    "  * S4: Two hidden layers with 15 neurons in the first layer and 10 neurons in the second layer\n",
    "  * S5: Three hidden layers with 15 neurons in each layer\n",
    "  * S6: Three hidden layers with 10 neurons in each layer\n",
    "  * S7: One hidden layer with 10 neurons\n",
    "  * S8: One hidden layer with 15 neurons\n",
    "* Compare the above settings using the score (R2) metric and select the best setting\n",
    "* Use the neural network with the best setting to predict the new cases of COVID-19 for US, Spain, Italy, and       Canada. Measure their performance in terms of average absolute error. Draw a bar chart to compare the \n",
    "  corresponding errors.\n",
    "* Report all the performances of cross validation in a proper table.\n"
   ]
  },
  {
   "cell_type": "code",
   "execution_count": 34,
   "metadata": {},
   "outputs": [],
   "source": [
    "#!/usr/bin/env python3\n",
    "# -*- coding: utf-8 -*-\n",
    "\"\"\"\n",
    "Created on Sat Nov  5 20:53:12 2022\n",
    "\n",
    "@author: jl\n",
    "\"\"\"\n",
    "\n",
    "import csv\n",
    "\n",
    "# Data import\n",
    "glob = dict()       \n",
    "with open('covid19_global_dataset.csv', newline='') as csvfile:\n",
    "    datareader = csv.reader(csvfile)\n",
    "    for r in datareader:\n",
    "        c = r[0]\n",
    "        if c=='week':\n",
    "            weekID = r[1:]\n",
    "        else:\n",
    "            tmp = []\n",
    "            for i in range(0,21):\n",
    "                tmp.append(0)\n",
    "            darray = r[1:]\n",
    "            for i in range(0,len(darray)):\n",
    "                t = int(weekID[i])\n",
    "                d = int(darray[i])\n",
    "                if t<21:\n",
    "                    tmp[t] += d\n",
    "            glob[c] = tmp    \n",
    "            "
   ]
  },
  {
   "cell_type": "code",
   "execution_count": 35,
   "metadata": {},
   "outputs": [],
   "source": [
    "def prepare_data(data):\n",
    "    # New Cases\n",
    "    allNews = []\n",
    "    for c in data:\n",
    "        tmp = data[c]\n",
    "        tmp2 = [tmp[0]]\n",
    "        allNews.append(tmp[0])\n",
    "        for i in range(1,len(tmp)):\n",
    "            tmp2.append(tmp[i] - tmp[i-1])\n",
    "            allNews.append(tmp[i] - tmp[i-1])\n",
    "        data[c] = tmp2\n",
    "\n",
    "\n",
    "    # Build Dataset\n",
    "    X = []\n",
    "    Y = []\n",
    "    step = 10\n",
    "    for c in data:\n",
    "        tmp = data[c]\n",
    "        for j in range(0,len(tmp)-step-1):\n",
    "            sdata = sum(tmp[j:j+step])\n",
    "            if sdata>0:\n",
    "                X.append(tmp[j:j+step])\n",
    "                Y.append(tmp[j+step])\n",
    "    \n",
    "    return X, Y"
   ]
  },
  {
   "cell_type": "code",
   "execution_count": 36,
   "metadata": {},
   "outputs": [],
   "source": [
    "test = {}\n",
    "test[\"US\"] = glob.pop(\"US\")\n",
    "test[\"Spain\"] = glob.pop(\"Spain\")\n",
    "test[\"Italy\"] = glob.pop(\"Italy\")\n",
    "test[\"Canada\"] = glob.pop(\"Canada\")"
   ]
  },
  {
   "cell_type": "code",
   "execution_count": 37,
   "metadata": {},
   "outputs": [],
   "source": [
    "Xtrain, Ytrain = prepare_data(glob)"
   ]
  },
  {
   "cell_type": "code",
   "execution_count": 38,
   "metadata": {},
   "outputs": [],
   "source": [
    "import numpy as np\n",
    "from sklearn.neural_network import MLPRegressor\n",
    "from sklearn.model_selection import cross_validate\n",
    "from sklearn.metrics import r2_score, mean_squared_error\n",
    "\n",
    "FOLD = 5\n",
    "R2_SCORES = []\n",
    "MODEL_LAYERS = []\n",
    "SCORING_METHOD = \"r2\"\n",
    "\n",
    "S1 = MLPRegressor(hidden_layer_sizes=(15, 15),random_state=1,max_iter=2000)\n",
    "S2 = MLPRegressor(hidden_layer_sizes=(10, 10),random_state=1,max_iter=2000)\n",
    "S3 = MLPRegressor(hidden_layer_sizes=(10, 15),random_state=1,max_iter=2000)\n",
    "S4 = MLPRegressor(hidden_layer_sizes=(15, 10),random_state=1,max_iter=2000)\n",
    "S5 = MLPRegressor(hidden_layer_sizes=(15, 15, 15),random_state=1,max_iter=2000)\n",
    "S6 = MLPRegressor(hidden_layer_sizes=(10, 10, 10),random_state=1,max_iter=2000)\n",
    "S7 = MLPRegressor(hidden_layer_sizes=(10),random_state=1,max_iter=2000)\n",
    "S8 = MLPRegressor(hidden_layer_sizes=(15),random_state=1,max_iter=2000)\n",
    "\n",
    "models = [S1, S2, S3, S4, S5, S6, S7, S8]\n",
    "\n",
    "for model in models:\n",
    "    results = cross_validate(estimator=model,\n",
    "                               X=Xtrain,\n",
    "                               y=Ytrain,\n",
    "                               cv=FOLD,\n",
    "                               scoring=SCORING_METHOD,\n",
    "                               return_train_score=True)\n",
    "    r2 = np.mean(results[\"test_score\"])\n",
    "    R2_SCORES.append(r2)\n",
    "    MODEL_LAYERS.append(str(model.hidden_layer_sizes))"
   ]
  },
  {
   "cell_type": "code",
   "execution_count": 39,
   "metadata": {},
   "outputs": [
    {
     "name": "stdout",
     "output_type": "stream",
     "text": [
      "(15, 15)  -->  0.7834369450220724\n",
      "(10, 10)  -->  0.8062416689890293\n",
      "(10, 15)  -->  0.7980480078053006\n",
      "(15, 10)  -->  0.7936494907864421\n",
      "(15, 15, 15)  -->  0.7546361734235022\n",
      "(10, 10, 10)  -->  0.7805797336713745\n",
      "10  -->  0.8004780772684914\n",
      "15  -->  0.8101451829246592\n"
     ]
    }
   ],
   "source": [
    "for i, j in zip(MODEL_LAYERS, R2_SCORES):\n",
    "    print(i, \" --> \", j)"
   ]
  },
  {
   "cell_type": "code",
   "execution_count": 40,
   "metadata": {},
   "outputs": [
    {
     "data": {
      "text/plain": [
       "MLPRegressor(hidden_layer_sizes=15, max_iter=2000, random_state=1)"
      ]
     },
     "execution_count": 40,
     "metadata": {},
     "output_type": "execute_result"
    }
   ],
   "source": [
    "final_model = S8\n",
    "final_model.fit(Xtrain, Ytrain)"
   ]
  },
  {
   "cell_type": "code",
   "execution_count": 41,
   "metadata": {},
   "outputs": [],
   "source": [
    "ERRORS = []\n",
    "SCORES = []\n",
    "PREDICTIONS = dict()\n",
    "COUNTRIES = [\"US\", \"Spain\", \"Italy\", \"Canada\"]\n",
    "\n",
    "for count in COUNTRIES:\n",
    "    data = dict()\n",
    "    data[cont] = test[cont]\n",
    "    X, Y = prepare_data(data)\n",
    "    Ypred = final_model.predict(X)\n",
    "    r2 = r2_score(Y, Ypred)\n",
    "    error = mean_squared_error(Y, Ypred)\n",
    "    ERRORS.append(error)\n",
    "    SCORES.append(r2)\n",
    "    PREDICTIONS[count] = Ypred"
   ]
  },
  {
   "cell_type": "code",
   "execution_count": 42,
   "metadata": {},
   "outputs": [],
   "source": [
    "from matplotlib import pyplot as plt\n",
    "import seaborn as sns"
   ]
  },
  {
   "cell_type": "code",
   "execution_count": 43,
   "metadata": {},
   "outputs": [
    {
     "ename": "TypeError",
     "evalue": "barplot() takes from 0 to 1 positional arguments but 2 were given",
     "output_type": "error",
     "traceback": [
      "\u001b[0;31m---------------------------------------------------------------------------\u001b[0m",
      "\u001b[0;31mTypeError\u001b[0m                                 Traceback (most recent call last)",
      "\u001b[0;32m/var/folders/3l/qm1h__810wxdvb5khb64r2dw0000gn/T/ipykernel_28974/2686795231.py\u001b[0m in \u001b[0;36m<module>\u001b[0;34m\u001b[0m\n\u001b[1;32m      1\u001b[0m \u001b[0mplt\u001b[0m\u001b[0;34m.\u001b[0m\u001b[0mfigure\u001b[0m\u001b[0;34m(\u001b[0m\u001b[0mfigsize\u001b[0m\u001b[0;34m=\u001b[0m\u001b[0;34m(\u001b[0m\u001b[0;36m14\u001b[0m\u001b[0;34m,\u001b[0m \u001b[0;36m5\u001b[0m\u001b[0;34m)\u001b[0m\u001b[0;34m)\u001b[0m\u001b[0;34m\u001b[0m\u001b[0;34m\u001b[0m\u001b[0m\n\u001b[0;32m----> 2\u001b[0;31m \u001b[0msns\u001b[0m\u001b[0;34m.\u001b[0m\u001b[0mbarplot\u001b[0m\u001b[0;34m(\u001b[0m\u001b[0mCONTRIES\u001b[0m\u001b[0;34m,\u001b[0m \u001b[0mERRORS\u001b[0m\u001b[0;34m)\u001b[0m\u001b[0;34m\u001b[0m\u001b[0;34m\u001b[0m\u001b[0m\n\u001b[0m\u001b[1;32m      3\u001b[0m \u001b[0;31m# plt.ylim(0.7, 0.82)\u001b[0m\u001b[0;34m\u001b[0m\u001b[0;34m\u001b[0m\u001b[0m\n\u001b[1;32m      4\u001b[0m \u001b[0mplt\u001b[0m\u001b[0;34m.\u001b[0m\u001b[0mylabel\u001b[0m\u001b[0;34m(\u001b[0m\u001b[0;34m\"Mean Squared Error\"\u001b[0m\u001b[0;34m)\u001b[0m\u001b[0;34m\u001b[0m\u001b[0;34m\u001b[0m\u001b[0m\n\u001b[1;32m      5\u001b[0m \u001b[0mplt\u001b[0m\u001b[0;34m.\u001b[0m\u001b[0mxlabel\u001b[0m\u001b[0;34m(\u001b[0m\u001b[0;34m\"Contries\"\u001b[0m\u001b[0;34m)\u001b[0m\u001b[0;34m\u001b[0m\u001b[0;34m\u001b[0m\u001b[0m\n",
      "\u001b[0;31mTypeError\u001b[0m: barplot() takes from 0 to 1 positional arguments but 2 were given"
     ]
    },
    {
     "data": {
      "text/plain": [
       "<Figure size 1008x360 with 0 Axes>"
      ]
     },
     "metadata": {},
     "output_type": "display_data"
    }
   ],
   "source": [
    "plt.figure(figsize=(14, 5))\n",
    "sns.barplot(CONTRIES, ERRORS)\n",
    "# plt.ylim(0.7, 0.82)\n",
    "plt.ylabel(\"Mean Squared Error\")\n",
    "plt.xlabel(\"Contries\")\n",
    "plt.show()"
   ]
  },
  {
   "cell_type": "code",
   "execution_count": null,
   "metadata": {},
   "outputs": [],
   "source": [
    "import pandas as pd\n",
    "\n",
    "df_models = pd.DataFrame({\"Model\": MODEL_LAYERS, \"R2 Score\": R2_SCORES})\n",
    "display(df_models)"
   ]
  },
  {
   "cell_type": "code",
   "execution_count": null,
   "metadata": {},
   "outputs": [],
   "source": [
    "df_count = pd.DataFrame({\"Country\": CONTRIES, \"R2 Score\": SCORES, \"MSE\": ERRORS})\n",
    "display(df_count)"
   ]
  }
 ],
 "metadata": {
  "kernelspec": {
   "display_name": "Python 3 (ipykernel)",
   "language": "python",
   "name": "python3"
  },
  "language_info": {
   "codemirror_mode": {
    "name": "ipython",
    "version": 3
   },
   "file_extension": ".py",
   "mimetype": "text/x-python",
   "name": "python",
   "nbconvert_exporter": "python",
   "pygments_lexer": "ipython3",
   "version": "3.9.7"
  }
 },
 "nbformat": 4,
 "nbformat_minor": 4
}
