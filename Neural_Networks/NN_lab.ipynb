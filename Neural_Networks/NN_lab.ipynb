{
 "cells": [
  {
   "cell_type": "markdown",
   "metadata": {},
   "source": [
    "# Neural Nets - Covid_19"
   ]
  },
  {
   "cell_type": "code",
   "execution_count": 1,
   "metadata": {},
   "outputs": [],
   "source": [
    "#!/usr/bin/env python3\n",
    "# -*- coding: utf-8 -*-\n",
    "\"\"\"\n",
    "Created on Sat Nov  5 20:53:12 2022\n",
    "\n",
    "@author: jl\n",
    "\"\"\"\n",
    "\n",
    "import csv\n",
    "\n",
    "# Data import\n",
    "glob = dict()       \n",
    "with open('covid19_global_dataset.csv', newline='') as csvfile:\n",
    "    datareader = csv.reader(csvfile)\n",
    "    for r in datareader:\n",
    "        c = r[0]\n",
    "        if c=='week':\n",
    "            weekID = r[1:]\n",
    "        else:\n",
    "            tmp = []\n",
    "            for i in range(0,21):\n",
    "                tmp.append(0)\n",
    "            darray = r[1:]\n",
    "            for i in range(0,len(darray)):\n",
    "                t = int(weekID[i])\n",
    "                d = int(darray[i])\n",
    "                if t<21:\n",
    "                    tmp[t] += d\n",
    "            glob[c] = tmp    \n",
    "            "
   ]
  },
  {
   "cell_type": "code",
   "execution_count": 2,
   "metadata": {},
   "outputs": [],
   "source": [
    "def prepare_data(data):\n",
    "    # New Cases\n",
    "    allNews = []\n",
    "    for c in data:\n",
    "        tmp = data[c]\n",
    "        tmp2 = [tmp[0]]\n",
    "        allNews.append(tmp[0])\n",
    "        for i in range(1,len(tmp)):\n",
    "            tmp2.append(tmp[i] - tmp[i-1])\n",
    "            allNews.append(tmp[i] - tmp[i-1])\n",
    "        data[c] = tmp2\n",
    "\n",
    "\n",
    "    # Build Dataset\n",
    "    X = []\n",
    "    Y = []\n",
    "    step = 10\n",
    "    for c in data:\n",
    "        tmp = data[c]\n",
    "        for j in range(0,len(tmp)-step-1):\n",
    "            sdata = sum(tmp[j:j+step])\n",
    "            if sdata>0:\n",
    "                X.append(tmp[j:j+step])\n",
    "                Y.append(tmp[j+step])\n",
    "    \n",
    "    return X, Y"
   ]
  },
  {
   "cell_type": "code",
   "execution_count": 3,
   "metadata": {},
   "outputs": [],
   "source": [
    "test = {}\n",
    "test[\"US\"] = glob.pop(\"US\")\n",
    "test[\"Spain\"] = glob.pop(\"Spain\")\n",
    "test[\"Italy\"] = glob.pop(\"Italy\")\n",
    "test[\"Canada\"] = glob.pop(\"Canada\")"
   ]
  },
  {
   "cell_type": "code",
   "execution_count": 4,
   "metadata": {},
   "outputs": [],
   "source": [
    "Xtrain, Ytrain = prepare_data(glob)"
   ]
  },
  {
   "cell_type": "code",
   "execution_count": 5,
   "metadata": {},
   "outputs": [],
   "source": [
    "import numpy as np\n",
    "from sklearn.neural_network import MLPRegressor\n",
    "from sklearn.model_selection import cross_validate\n",
    "from sklearn.metrics import r2_score, mean_squared_error\n",
    "\n",
    "FOLD = 5\n",
    "R2_SCORES = []\n",
    "MODEL_LAYERS = []\n",
    "SCORING_METHOD = \"r2\"\n",
    "\n",
    "S1 = MLPRegressor(hidden_layer_sizes=(15, 15),random_state=1,max_iter=2000)\n",
    "S2 = MLPRegressor(hidden_layer_sizes=(10, 10),random_state=1,max_iter=2000)\n",
    "S3 = MLPRegressor(hidden_layer_sizes=(10, 15),random_state=1,max_iter=2000)\n",
    "S4 = MLPRegressor(hidden_layer_sizes=(15, 10),random_state=1,max_iter=2000)\n",
    "S5 = MLPRegressor(hidden_layer_sizes=(15, 15, 15),random_state=1,max_iter=2000)\n",
    "S6 = MLPRegressor(hidden_layer_sizes=(10, 10, 10),random_state=1,max_iter=2000)\n",
    "S7 = MLPRegressor(hidden_layer_sizes=(10),random_state=1,max_iter=2000)\n",
    "S8 = MLPRegressor(hidden_layer_sizes=(15),random_state=1,max_iter=2000)\n",
    "\n",
    "models = [S1, S2, S3, S4, S5, S6, S7, S8]\n",
    "\n",
    "for model in models:\n",
    "    results = cross_validate(estimator=model,\n",
    "                               X=Xtrain,\n",
    "                               y=Ytrain,\n",
    "                               cv=FOLD,\n",
    "                               scoring=SCORING_METHOD,\n",
    "                               return_train_score=True)\n",
    "    r2 = np.mean(results[\"test_score\"])\n",
    "    R2_SCORES.append(r2)\n",
    "    MODEL_LAYERS.append(str(model.hidden_layer_sizes))"
   ]
  },
  {
   "cell_type": "code",
   "execution_count": 6,
   "metadata": {},
   "outputs": [
    {
     "name": "stdout",
     "output_type": "stream",
     "text": [
      "(15, 15)  -->  0.7834369450220723\n",
      "(10, 10)  -->  0.8062416689890292\n",
      "(10, 15)  -->  0.7980480078053006\n",
      "(15, 10)  -->  0.7936494907864421\n",
      "(15, 15, 15)  -->  0.7546361734235025\n",
      "(10, 10, 10)  -->  0.7805797336713745\n",
      "10  -->  0.8004780772684914\n",
      "15  -->  0.8101451829246591\n"
     ]
    }
   ],
   "source": [
    "for i, j in zip(MODEL_LAYERS, R2_SCORES):\n",
    "    print(i, \" --> \", j)"
   ]
  },
  {
   "cell_type": "code",
   "execution_count": 7,
   "metadata": {},
   "outputs": [
    {
     "data": {
      "text/html": [
       "<style>#sk-container-id-1 {color: black;background-color: white;}#sk-container-id-1 pre{padding: 0;}#sk-container-id-1 div.sk-toggleable {background-color: white;}#sk-container-id-1 label.sk-toggleable__label {cursor: pointer;display: block;width: 100%;margin-bottom: 0;padding: 0.3em;box-sizing: border-box;text-align: center;}#sk-container-id-1 label.sk-toggleable__label-arrow:before {content: \"▸\";float: left;margin-right: 0.25em;color: #696969;}#sk-container-id-1 label.sk-toggleable__label-arrow:hover:before {color: black;}#sk-container-id-1 div.sk-estimator:hover label.sk-toggleable__label-arrow:before {color: black;}#sk-container-id-1 div.sk-toggleable__content {max-height: 0;max-width: 0;overflow: hidden;text-align: left;background-color: #f0f8ff;}#sk-container-id-1 div.sk-toggleable__content pre {margin: 0.2em;color: black;border-radius: 0.25em;background-color: #f0f8ff;}#sk-container-id-1 input.sk-toggleable__control:checked~div.sk-toggleable__content {max-height: 200px;max-width: 100%;overflow: auto;}#sk-container-id-1 input.sk-toggleable__control:checked~label.sk-toggleable__label-arrow:before {content: \"▾\";}#sk-container-id-1 div.sk-estimator input.sk-toggleable__control:checked~label.sk-toggleable__label {background-color: #d4ebff;}#sk-container-id-1 div.sk-label input.sk-toggleable__control:checked~label.sk-toggleable__label {background-color: #d4ebff;}#sk-container-id-1 input.sk-hidden--visually {border: 0;clip: rect(1px 1px 1px 1px);clip: rect(1px, 1px, 1px, 1px);height: 1px;margin: -1px;overflow: hidden;padding: 0;position: absolute;width: 1px;}#sk-container-id-1 div.sk-estimator {font-family: monospace;background-color: #f0f8ff;border: 1px dotted black;border-radius: 0.25em;box-sizing: border-box;margin-bottom: 0.5em;}#sk-container-id-1 div.sk-estimator:hover {background-color: #d4ebff;}#sk-container-id-1 div.sk-parallel-item::after {content: \"\";width: 100%;border-bottom: 1px solid gray;flex-grow: 1;}#sk-container-id-1 div.sk-label:hover label.sk-toggleable__label {background-color: #d4ebff;}#sk-container-id-1 div.sk-serial::before {content: \"\";position: absolute;border-left: 1px solid gray;box-sizing: border-box;top: 0;bottom: 0;left: 50%;z-index: 0;}#sk-container-id-1 div.sk-serial {display: flex;flex-direction: column;align-items: center;background-color: white;padding-right: 0.2em;padding-left: 0.2em;position: relative;}#sk-container-id-1 div.sk-item {position: relative;z-index: 1;}#sk-container-id-1 div.sk-parallel {display: flex;align-items: stretch;justify-content: center;background-color: white;position: relative;}#sk-container-id-1 div.sk-item::before, #sk-container-id-1 div.sk-parallel-item::before {content: \"\";position: absolute;border-left: 1px solid gray;box-sizing: border-box;top: 0;bottom: 0;left: 50%;z-index: -1;}#sk-container-id-1 div.sk-parallel-item {display: flex;flex-direction: column;z-index: 1;position: relative;background-color: white;}#sk-container-id-1 div.sk-parallel-item:first-child::after {align-self: flex-end;width: 50%;}#sk-container-id-1 div.sk-parallel-item:last-child::after {align-self: flex-start;width: 50%;}#sk-container-id-1 div.sk-parallel-item:only-child::after {width: 0;}#sk-container-id-1 div.sk-dashed-wrapped {border: 1px dashed gray;margin: 0 0.4em 0.5em 0.4em;box-sizing: border-box;padding-bottom: 0.4em;background-color: white;}#sk-container-id-1 div.sk-label label {font-family: monospace;font-weight: bold;display: inline-block;line-height: 1.2em;}#sk-container-id-1 div.sk-label-container {text-align: center;}#sk-container-id-1 div.sk-container {/* jupyter's `normalize.less` sets `[hidden] { display: none; }` but bootstrap.min.css set `[hidden] { display: none !important; }` so we also need the `!important` here to be able to override the default hidden behavior on the sphinx rendered scikit-learn.org. See: https://github.com/scikit-learn/scikit-learn/issues/21755 */display: inline-block !important;position: relative;}#sk-container-id-1 div.sk-text-repr-fallback {display: none;}</style><div id=\"sk-container-id-1\" class=\"sk-top-container\"><div class=\"sk-text-repr-fallback\"><pre>MLPRegressor(hidden_layer_sizes=15, max_iter=2000, random_state=1)</pre><b>In a Jupyter environment, please rerun this cell to show the HTML representation or trust the notebook. <br />On GitHub, the HTML representation is unable to render, please try loading this page with nbviewer.org.</b></div><div class=\"sk-container\" hidden><div class=\"sk-item\"><div class=\"sk-estimator sk-toggleable\"><input class=\"sk-toggleable__control sk-hidden--visually\" id=\"sk-estimator-id-1\" type=\"checkbox\" checked><label for=\"sk-estimator-id-1\" class=\"sk-toggleable__label sk-toggleable__label-arrow\">MLPRegressor</label><div class=\"sk-toggleable__content\"><pre>MLPRegressor(hidden_layer_sizes=15, max_iter=2000, random_state=1)</pre></div></div></div></div></div>"
      ],
      "text/plain": [
       "MLPRegressor(hidden_layer_sizes=15, max_iter=2000, random_state=1)"
      ]
     },
     "execution_count": 7,
     "metadata": {},
     "output_type": "execute_result"
    }
   ],
   "source": [
    "final_model = S8\n",
    "final_model.fit(Xtrain, Ytrain)"
   ]
  },
  {
   "cell_type": "code",
   "execution_count": 8,
   "metadata": {},
   "outputs": [],
   "source": [
    "ERRORS = []\n",
    "SCORES = []\n",
    "PREDICTIONS = dict()\n",
    "CONTRIES = [\"US\", \"Spain\", \"Italy\", \"Canada\"]\n",
    "\n",
    "for cont in CONTRIES:\n",
    "    data = dict()\n",
    "    data[cont] = test[cont]\n",
    "    X, Y = prepare_data(data)\n",
    "    Ypred = final_model.predict(X)\n",
    "    r2 = r2_score(Y, Ypred)\n",
    "    error = mean_squared_error(Y, Ypred)\n",
    "    ERRORS.append(error)\n",
    "    SCORES.append(r2)\n",
    "    PREDICTIONS[cont] = Ypred"
   ]
  },
  {
   "cell_type": "code",
   "execution_count": 9,
   "metadata": {},
   "outputs": [],
   "source": [
    "from matplotlib import pyplot as plt\n",
    "import seaborn as sns"
   ]
  },
  {
   "cell_type": "code",
   "execution_count": 10,
   "metadata": {},
   "outputs": [
    {
     "name": "stderr",
     "output_type": "stream",
     "text": [
      "C:\\Users\\hp\\anaconda3\\lib\\site-packages\\seaborn\\_decorators.py:36: FutureWarning: Pass the following variables as keyword args: x, y. From version 0.12, the only valid positional argument will be `data`, and passing other arguments without an explicit keyword will result in an error or misinterpretation.\n",
      "  warnings.warn(\n"
     ]
    },
    {
     "data": {
      "image/png": "[encoded data removed]",
      "text/plain": [
       "<Figure size 1008x360 with 1 Axes>"
      ]
     },
     "metadata": {
      "needs_background": "light"
     },
     "output_type": "display_data"
    }
   ],
   "source": [
    "plt.figure(figsize=(14, 5))\n",
    "sns.barplot(CONTRIES, ERRORS)\n",
    "# plt.ylim(0.7, 0.82)\n",
    "plt.ylabel(\"Mean Squared Error\")\n",
    "plt.xlabel(\"Contries\")\n",
    "plt.show()"
   ]
  },
  {
   "cell_type": "code",
   "execution_count": 14,
   "metadata": {},
   "outputs": [
    {
     "data": {
      "text/html": [
       "<div>\n",
       "<style scoped>\n",
       "    .dataframe tbody tr th:only-of-type {\n",
       "        vertical-align: middle;\n",
       "    }\n",
       "\n",
       "    .dataframe tbody tr th {\n",
       "        vertical-align: top;\n",
       "    }\n",
       "\n",
       "    .dataframe thead th {\n",
       "        text-align: right;\n",
       "    }\n",
       "</style>\n",
       "<table border=\"1\" class=\"dataframe\">\n",
       "  <thead>\n",
       "    <tr style=\"text-align: right;\">\n",
       "      <th></th>\n",
       "      <th>Model</th>\n",
       "      <th>R2 Score</th>\n",
       "    </tr>\n",
       "  </thead>\n",
       "  <tbody>\n",
       "    <tr>\n",
       "      <th>0</th>\n",
       "      <td>(15, 15)</td>\n",
       "      <td>0.783437</td>\n",
       "    </tr>\n",
       "    <tr>\n",
       "      <th>1</th>\n",
       "      <td>(10, 10)</td>\n",
       "      <td>0.806242</td>\n",
       "    </tr>\n",
       "    <tr>\n",
       "      <th>2</th>\n",
       "      <td>(10, 15)</td>\n",
       "      <td>0.798048</td>\n",
       "    </tr>\n",
       "    <tr>\n",
       "      <th>3</th>\n",
       "      <td>(15, 10)</td>\n",
       "      <td>0.793649</td>\n",
       "    </tr>\n",
       "    <tr>\n",
       "      <th>4</th>\n",
       "      <td>(15, 15, 15)</td>\n",
       "      <td>0.754636</td>\n",
       "    </tr>\n",
       "    <tr>\n",
       "      <th>5</th>\n",
       "      <td>(10, 10, 10)</td>\n",
       "      <td>0.780580</td>\n",
       "    </tr>\n",
       "    <tr>\n",
       "      <th>6</th>\n",
       "      <td>10</td>\n",
       "      <td>0.800478</td>\n",
       "    </tr>\n",
       "    <tr>\n",
       "      <th>7</th>\n",
       "      <td>15</td>\n",
       "      <td>0.810145</td>\n",
       "    </tr>\n",
       "  </tbody>\n",
       "</table>\n",
       "</div>"
      ],
      "text/plain": [
       "          Model  R2 Score\n",
       "0      (15, 15)  0.783437\n",
       "1      (10, 10)  0.806242\n",
       "2      (10, 15)  0.798048\n",
       "3      (15, 10)  0.793649\n",
       "4  (15, 15, 15)  0.754636\n",
       "5  (10, 10, 10)  0.780580\n",
       "6            10  0.800478\n",
       "7            15  0.810145"
      ]
     },
     "metadata": {},
     "output_type": "display_data"
    }
   ],
   "source": [
    "import pandas as pd\n",
    "\n",
    "df_models = pd.DataFrame({\"Model\": MODEL_LAYERS, \"R2 Score\": R2_SCORES})\n",
    "display(df_models)"
   ]
  },
  {
   "cell_type": "code",
   "execution_count": 13,
   "metadata": {},
   "outputs": [
    {
     "data": {
      "text/html": [
       "<div>\n",
       "<style scoped>\n",
       "    .dataframe tbody tr th:only-of-type {\n",
       "        vertical-align: middle;\n",
       "    }\n",
       "\n",
       "    .dataframe tbody tr th {\n",
       "        vertical-align: top;\n",
       "    }\n",
       "\n",
       "    .dataframe thead th {\n",
       "        text-align: right;\n",
       "    }\n",
       "</style>\n",
       "<table border=\"1\" class=\"dataframe\">\n",
       "  <thead>\n",
       "    <tr style=\"text-align: right;\">\n",
       "      <th></th>\n",
       "      <th>Country</th>\n",
       "      <th>R2 Score</th>\n",
       "      <th>MSE</th>\n",
       "    </tr>\n",
       "  </thead>\n",
       "  <tbody>\n",
       "    <tr>\n",
       "      <th>0</th>\n",
       "      <td>US</td>\n",
       "      <td>0.849778</td>\n",
       "      <td>5.829782e+10</td>\n",
       "    </tr>\n",
       "    <tr>\n",
       "      <th>1</th>\n",
       "      <td>Spain</td>\n",
       "      <td>0.554996</td>\n",
       "      <td>6.743901e+09</td>\n",
       "    </tr>\n",
       "    <tr>\n",
       "      <th>2</th>\n",
       "      <td>Italy</td>\n",
       "      <td>0.585828</td>\n",
       "      <td>2.394247e+09</td>\n",
       "    </tr>\n",
       "    <tr>\n",
       "      <th>3</th>\n",
       "      <td>Canada</td>\n",
       "      <td>0.858046</td>\n",
       "      <td>1.667881e+08</td>\n",
       "    </tr>\n",
       "  </tbody>\n",
       "</table>\n",
       "</div>"
      ],
      "text/plain": [
       "  Country  R2 Score           MSE\n",
       "0      US  0.849778  5.829782e+10\n",
       "1   Spain  0.554996  6.743901e+09\n",
       "2   Italy  0.585828  2.394247e+09\n",
       "3  Canada  0.858046  1.667881e+08"
      ]
     },
     "execution_count": 13,
     "metadata": {},
     "output_type": "execute_result"
    }
   ],
   "source": [
    "df_cont = pd.DataFrame({\"Country\": CONTRIES, \"R2 Score\": SCORES, \"MSE\": ERRORS})\n",
    "display(df_cont)"
   ]
  },
  {
   "cell_type": "code",
   "execution_count": null,
   "metadata": {},
   "outputs": [],
   "source": []
  }
 ],
 "metadata": {
  "kernelspec": {
   "display_name": "Python 3",
   "language": "python",
   "name": "python3"
  },
  "language_info": {
   "codemirror_mode": {
    "name": "ipython",
    "version": 3
   },
   "file_extension": ".py",
   "mimetype": "text/x-python",
   "name": "python",
   "nbconvert_exporter": "python",
   "pygments_lexer": "ipython3",
   "version": "3.8.5"
  }
 },
 "nbformat": 4,
 "nbformat_minor": 4
}
